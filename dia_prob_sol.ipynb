{
 "cells": [
  {
   "cell_type": "code",
   "execution_count": 17,
   "id": "07672dcf",
   "metadata": {},
   "outputs": [
    {
     "name": "stdout",
     "output_type": "stream",
     "text": [
      "Enter a message: aaabbba\n",
      "Compressed message: a3b3a\n"
     ]
    }
   ],
   "source": [
    "# user input\n",
    "msg = input(\"Enter a message: \")\n",
    "\n",
    "comp_msg = \"\"\n",
    "count = 1\n",
    "\n",
    "for i in range(1, len(msg)):\n",
    "    if msg[i] == msg[i - 1]:\n",
    "        count += 1\n",
    "    else:\n",
    "        if count > 1:\n",
    "            comp_msg += msg[i - 1] + str(count)\n",
    "            #if the letter repeats count will be increased and will be added to string\n",
    "            #and will continue till the encounters new letter\n",
    "        else:\n",
    "            comp_msg += msg[i - 1]\n",
    "        count = 1\n",
    "\n",
    "# for the last letter\n",
    "if count > 1:\n",
    "    comp_msg += msg[-1] + str(count)\n",
    "else:\n",
    "    comp_msg += msg[-1]\n",
    "\n",
    "print(\"Compressed message:\", comp_msg)\n"
   ]
  },
  {
   "cell_type": "code",
   "execution_count": null,
   "id": "6578202d",
   "metadata": {},
   "outputs": [],
   "source": []
  },
  {
   "cell_type": "code",
   "execution_count": null,
   "id": "fcf61d55",
   "metadata": {},
   "outputs": [],
   "source": []
  }
 ],
 "metadata": {
  "kernelspec": {
   "display_name": "Python 3 (ipykernel)",
   "language": "python",
   "name": "python3"
  },
  "language_info": {
   "codemirror_mode": {
    "name": "ipython",
    "version": 3
   },
   "file_extension": ".py",
   "mimetype": "text/x-python",
   "name": "python",
   "nbconvert_exporter": "python",
   "pygments_lexer": "ipython3",
   "version": "3.9.13"
  }
 },
 "nbformat": 4,
 "nbformat_minor": 5
}
